{
 "cells": [
  {
   "cell_type": "markdown",
   "metadata": {
    "collapsed": true
   },
   "source": [
    "# Image Classification\n",
    "In this project, you'll classify images from the [CIFAR-10 dataset](https://www.cs.toronto.edu/~kriz/cifar.html).  The dataset consists of airplanes, dogs, cats, and other objects. You'll preprocess the images, then train a convolutional neural network on all the samples. The images need to be normalized and the labels need to be one-hot encoded.  You'll get to apply what you learned and build a convolutional, max pooling, dropout, and fully connected layers.  At the end, you'll get to see your neural network's predictions on the sample images.\n",
    "## Get the Data\n",
    "Run the following cell to download the [CIFAR-10 dataset for python](https://www.cs.toronto.edu/~kriz/cifar-10-python.tar.gz)."
   ]
  },
  {
   "cell_type": "code",
   "execution_count": 1,
   "metadata": {
    "collapsed": false
   },
   "outputs": [
    {
     "name": "stderr",
     "output_type": "stream",
     "text": [
      "CIFAR-10 Dataset: 171MB [00:35, 4.78MB/s]                              \n"
     ]
    },
    {
     "name": "stdout",
     "output_type": "stream",
     "text": [
      "All files found!\n"
     ]
    }
   ],
   "source": [
    "\"\"\"\n",
    "DON'T MODIFY ANYTHING IN THIS CELL THAT IS BELOW THIS LINE\n",
    "\"\"\"\n",
    "from urllib.request import urlretrieve\n",
    "from os.path import isfile, isdir\n",
    "from tqdm import tqdm\n",
    "import problem_unittests as tests\n",
    "import tarfile\n",
    "\n",
    "cifar10_dataset_folder_path = 'cifar-10-batches-py'\n",
    "\n",
    "class DLProgress(tqdm):\n",
    "    last_block = 0\n",
    "\n",
    "    def hook(self, block_num=1, block_size=1, total_size=None):\n",
    "        self.total = total_size\n",
    "        self.update((block_num - self.last_block) * block_size)\n",
    "        self.last_block = block_num\n",
    "\n",
    "if not isfile('cifar-10-python.tar.gz'):\n",
    "    with DLProgress(unit='B', unit_scale=True, miniters=1, desc='CIFAR-10 Dataset') as pbar:\n",
    "        urlretrieve(\n",
    "            'https://www.cs.toronto.edu/~kriz/cifar-10-python.tar.gz',\n",
    "            'cifar-10-python.tar.gz',\n",
    "            pbar.hook)\n",
    "\n",
    "if not isdir(cifar10_dataset_folder_path):\n",
    "    with tarfile.open('cifar-10-python.tar.gz') as tar:\n",
    "        tar.extractall()\n",
    "        tar.close()\n",
    "\n",
    "\n",
    "tests.test_folder_path(cifar10_dataset_folder_path)"
   ]
  },
  {
   "cell_type": "markdown",
   "metadata": {},
   "source": [
    "## Explore the Data\n",
    "The dataset is broken into batches to prevent your machine from running out of memory.  The CIFAR-10 dataset consists of 5 batches, named `data_batch_1`, `data_batch_2`, etc.. Each batch contains the labels and images that are one of the following:\n",
    "* airplane\n",
    "* automobile\n",
    "* bird\n",
    "* cat\n",
    "* deer\n",
    "* dog\n",
    "* frog\n",
    "* horse\n",
    "* ship\n",
    "* truck\n",
    "\n",
    "Understanding a dataset is part of making predictions on the data.  Play around with the code cell below by changing the `batch_id` and `sample_id`. The `batch_id` is the id for a batch (1-5). The `sample_id` is the id for a image and label pair in the batch.\n",
    "\n",
    "Ask yourself \"What are all possible labels?\", \"What is the range of values for the image data?\", \"Are the labels in order or random?\".  Answers to questions like these will help you preprocess the data and end up with better predictions."
   ]
  },
  {
   "cell_type": "code",
   "execution_count": 13,
   "metadata": {
    "collapsed": false
   },
   "outputs": [
    {
     "name": "stdout",
     "output_type": "stream",
     "text": [
      "\n",
      "Stats of batch 2:\n",
      "Samples: 10000\n",
      "Label Counts: {0: 984, 1: 1007, 2: 1010, 3: 995, 4: 1010, 5: 988, 6: 1008, 7: 1026, 8: 987, 9: 985}\n",
      "First 20 Labels: [1, 6, 6, 8, 8, 3, 4, 6, 0, 6, 0, 3, 6, 6, 5, 4, 8, 3, 2, 6]\n",
      "\n",
      "Example of Image 5:\n",
      "Image - Min Value: 3 Max Value: 219\n",
      "Image - Shape: (32, 32, 3)\n",
      "Label - Label Id: 3 Name: cat\n"
     ]
    },
    {
     "data": {
      "image/png": "[encoded data removed]",
      "text/plain": [
       "<matplotlib.figure.Figure at 0x11500e9b0>"
      ]
     },
     "metadata": {
      "image/png": {
       "height": 250,
       "width": 253
      }
     },
     "output_type": "display_data"
    }
   ],
   "source": [
    "%matplotlib inline\n",
    "%config InlineBackend.figure_format = 'retina'\n",
    "\n",
    "import helper\n",
    "import numpy as np\n",
    "\n",
    "# Explore the dataset\n",
    "batch_id = 2\n",
    "sample_id = 5\n",
    "helper.display_stats(cifar10_dataset_folder_path, batch_id, sample_id)"
   ]
  },
  {
   "cell_type": "markdown",
   "metadata": {},
   "source": [
    "## Implement Preprocess Functions\n",
    "### Normalize\n",
    "In the cell below, implement the `normalize` function to take in image data, `x`, and return it as a normalized Numpy array. The values should be in the range of 0 to 1, inclusive.  The return object should be the same shape as `x`."
   ]
  },
  {
   "cell_type": "code",
   "execution_count": 14,
   "metadata": {
    "collapsed": false
   },
   "outputs": [
    {
     "name": "stdout",
     "output_type": "stream",
     "text": [
      "Tests Passed\n"
     ]
    }
   ],
   "source": [
    "def normalize(x):\n",
    "    \"\"\"\n",
    "    Normalize a list of sample image data in the range of 0 to 1\n",
    "    : x: List of image data.  The image shape is (32, 32, 3)\n",
    "    : return: Numpy array of normalize data\n",
    "    \"\"\"\n",
    "    # TODO: Implement Function\n",
    "    max_value = 255\n",
    "    return np.array(x) / max_value\n",
    "\n",
    "\n",
    "\"\"\"\n",
    "DON'T MODIFY ANYTHING IN THIS CELL THAT IS BELOW THIS LINE\n",
    "\"\"\"\n",
    "tests.test_normalize(normalize)"
   ]
  },
  {
   "cell_type": "markdown",
   "metadata": {},
   "source": [
    "### One-hot encode\n",
    "Just like the previous code cell, you'll be implementing a function for preprocessing.  This time, you'll implement the `one_hot_encode` function. The input, `x`, are a list of labels.  Implement the function to return the list of labels as One-Hot encoded Numpy array.  The possible values for labels are 0 to 9. The one-hot encoding function should return the same encoding for each value between each call to `one_hot_encode`.  Make sure to save the map of encodings outside the function.\n",
    "\n",
    "Hint: Don't reinvent the wheel."
   ]
  },
  {
   "cell_type": "code",
   "execution_count": 19,
   "metadata": {
    "collapsed": false
   },
   "outputs": [
    {
     "name": "stdout",
     "output_type": "stream",
     "text": [
      "Tests Passed\n"
     ]
    }
   ],
   "source": [
    "lb = helper.LabelBinarizer()\n",
    "lb.fit(range(10))\n",
    "\n",
    "def one_hot_encode(x):\n",
    "    \"\"\"\n",
    "    One hot encode a list of sample labels. Return a one-hot encoded vector for each label.\n",
    "    : x: List of sample Labels\n",
    "    : return: Numpy array of one-hot encoded labels\n",
    "    \"\"\"\n",
    "    # TODO: Implement Function\n",
    "    return lb.transform(x)\n",
    "\n",
    "\"\"\"\n",
    "DON'T MODIFY ANYTHING IN THIS CELL THAT IS BELOW THIS LINE\n",
    "\"\"\"\n",
    "tests.test_one_hot_encode(one_hot_encode)"
   ]
  },
  {
   "cell_type": "markdown",
   "metadata": {},
   "source": [
    "### Randomize Data\n",
    "As you saw from exploring the data above, the order of the samples are randomized.  It doesn't hurt to randomize it again, but you don't need to for this dataset."
   ]
  },
  {
   "cell_type": "markdown",
   "metadata": {},
   "source": [
    "## Preprocess all the data and save it\n",
    "Running the code cell below will preprocess all the CIFAR-10 data and save it to file. The code below also uses 10% of the training data for validation."
   ]
  },
  {
   "cell_type": "code",
   "execution_count": 20,
   "metadata": {
    "collapsed": false
   },
   "outputs": [],
   "source": [
    "\"\"\"\n",
    "DON'T MODIFY ANYTHING IN THIS CELL\n",
    "\"\"\"\n",
    "# Preprocess Training, Validation, and Testing Data\n",
    "helper.preprocess_and_save_data(cifar10_dataset_folder_path, normalize, one_hot_encode)"
   ]
  },
  {
   "cell_type": "markdown",
   "metadata": {},
   "source": [
    "# Check Point\n",
    "This is your first checkpoint.  If you ever decide to come back to this notebook or have to restart the notebook, you can start from here.  The preprocessed data has been saved to disk."
   ]
  },
  {
   "cell_type": "code",
   "execution_count": 21,
   "metadata": {
    "collapsed": true
   },
   "outputs": [],
   "source": [
    "\"\"\"\n",
    "DON'T MODIFY ANYTHING IN THIS CELL\n",
    "\"\"\"\n",
    "import pickle\n",
    "import problem_unittests as tests\n",
    "import helper\n",
    "\n",
    "# Load the Preprocessed Validation data\n",
    "valid_features, valid_labels = pickle.load(open('preprocess_validation.p', mode='rb'))"
   ]
  },
  {
   "cell_type": "markdown",
   "metadata": {},
   "source": [
    "## Build the network\n",
    "For the neural network, you'll build each layer into a function.  Most of the code you've seen has been outside of functions. To test your code more thoroughly, we require that you put each layer in a function.  This allows us to give you better feedback and test for simple mistakes using our unittests before you submit your project.\n",
    "\n",
    ">**Note:** If you're finding it hard to dedicate enough time for this course each week, we've provided a small shortcut to this part of the project. In the next couple of problems, you'll have the option to use classes from the [TensorFlow Layers](https://www.tensorflow.org/api_docs/python/tf/layers) or [TensorFlow Layers (contrib)](https://www.tensorflow.org/api_guides/python/contrib.layers) packages to build each layer, except the layers you build in the \"Convolutional and Max Pooling Layer\" section.  TF Layers is similar to Keras's and TFLearn's abstraction to layers, so it's easy to pickup.\n",
    "\n",
    ">However, if you would like to get the most out of this course, try to solve all the problems _without_ using anything from the TF Layers packages. You **can** still use classes from other packages that happen to have the same name as ones you find in TF Layers! For example, instead of using the TF Layers version of the `conv2d` class, [tf.layers.conv2d](https://www.tensorflow.org/api_docs/python/tf/layers/conv2d), you would want to use the TF Neural Network version of `conv2d`, [tf.nn.conv2d](https://www.tensorflow.org/api_docs/python/tf/nn/conv2d). \n",
    "\n",
    "Let's begin!\n",
    "\n",
    "### Input\n",
    "The neural network needs to read the image data, one-hot encoded labels, and dropout keep probability. Implement the following functions\n",
    "* Implement `neural_net_image_input`\n",
    " * Return a [TF Placeholder](https://www.tensorflow.org/api_docs/python/tf/placeholder)\n",
    " * Set the shape using `image_shape` with batch size set to `None`.\n",
    " * Name the TensorFlow placeholder \"x\" using the TensorFlow `name` parameter in the [TF Placeholder](https://www.tensorflow.org/api_docs/python/tf/placeholder).\n",
    "* Implement `neural_net_label_input`\n",
    " * Return a [TF Placeholder](https://www.tensorflow.org/api_docs/python/tf/placeholder)\n",
    " * Set the shape using `n_classes` with batch size set to `None`.\n",
    " * Name the TensorFlow placeholder \"y\" using the TensorFlow `name` parameter in the [TF Placeholder](https://www.tensorflow.org/api_docs/python/tf/placeholder).\n",
    "* Implement `neural_net_keep_prob_input`\n",
    " * Return a [TF Placeholder](https://www.tensorflow.org/api_docs/python/tf/placeholder) for dropout keep probability.\n",
    " * Name the TensorFlow placeholder \"keep_prob\" using the TensorFlow `name` parameter in the [TF Placeholder](https://www.tensorflow.org/api_docs/python/tf/placeholder).\n",
    "\n",
    "These names will be used at the end of the project to load your saved model.\n",
    "\n",
    "Note: `None` for shapes in TensorFlow allow for a dynamic size."
   ]
  },
  {
   "cell_type": "code",
   "execution_count": 25,
   "metadata": {
    "collapsed": false
   },
   "outputs": [
    {
     "name": "stdout",
     "output_type": "stream",
     "text": [
      "Image Input Tests Passed.\n",
      "Label Input Tests Passed.\n",
      "Keep Prob Tests Passed.\n"
     ]
    }
   ],
   "source": [
    "import tensorflow as tf\n",
    "\n",
    "def neural_net_image_input(image_shape):\n",
    "    \"\"\"\n",
    "    Return a Tensor for a batch of image input\n",
    "    : image_shape: Shape of the images\n",
    "    : return: Tensor for image input.\n",
    "    \"\"\"\n",
    "    # TODO: Implement Function\n",
    "    return tf.placeholder(tf.float32, shape=(None, *image_shape), name='x')\n",
    "\n",
    "\n",
    "def neural_net_label_input(n_classes):\n",
    "    \"\"\"\n",
    "    Return a Tensor for a batch of label input\n",
    "    : n_classes: Number of classes\n",
    "    : return: Tensor for label input.\n",
    "    \"\"\"\n",
    "    # TODO: Implement Function\n",
    "    return tf.placeholder(tf.float32, shape=(None, n_classes), name='y')\n",
    "\n",
    "\n",
    "def neural_net_keep_prob_input():\n",
    "    \"\"\"\n",
    "    Return a Tensor for keep probability\n",
    "    : return: Tensor for keep probability.\n",
    "    \"\"\"\n",
    "    # TODO: Implement Function\n",
    "    return tf.placeholder(tf.float32, name='keep_prob')\n",
    "\n",
    "\n",
    "\"\"\"\n",
    "DON'T MODIFY ANYTHING IN THIS CELL THAT IS BELOW THIS LINE\n",
    "\"\"\"\n",
    "tf.reset_default_graph()\n",
    "tests.test_nn_image_inputs(neural_net_image_input)\n",
    "tests.test_nn_label_inputs(neural_net_label_input)\n",
    "tests.test_nn_keep_prob_inputs(neural_net_keep_prob_input)"
   ]
  },
  {
   "cell_type": "markdown",
   "metadata": {},
   "source": [
    "### Convolution and Max Pooling Layer\n",
    "Convolution layers have a lot of success with images. For this code cell, you should implement the function `conv2d_maxpool` to apply convolution then max pooling:\n",
    "* Create the weight and bias using `conv_ksize`, `conv_num_outputs` and the shape of `x_tensor`.\n",
    "* Apply a convolution to `x_tensor` using weight and `conv_strides`.\n",
    " * We recommend you use same padding, but you're welcome to use any padding.\n",
    "* Add bias\n",
    "* Add a nonlinear activation to the convolution.\n",
    "* Apply Max Pooling using `pool_ksize` and `pool_strides`.\n",
    " * We recommend you use same padding, but you're welcome to use any padding.\n",
    "\n",
    "**Note:** You **can't** use [TensorFlow Layers](https://www.tensorflow.org/api_docs/python/tf/layers) or [TensorFlow Layers (contrib)](https://www.tensorflow.org/api_guides/python/contrib.layers) for **this** layer, but you can still use TensorFlow's [Neural Network](https://www.tensorflow.org/api_docs/python/tf/nn) package. You may still use the shortcut option for all the **other** layers."
   ]
  },
  {
   "cell_type": "code",
   "execution_count": 102,
   "metadata": {
    "collapsed": false
   },
   "outputs": [
    {
     "name": "stdout",
     "output_type": "stream",
     "text": [
      "Tests Passed\n"
     ]
    }
   ],
   "source": [
    "def conv2d_maxpool(x_tensor, conv_num_outputs, conv_ksize, conv_strides, pool_ksize, pool_strides):\n",
    "    \"\"\"\n",
    "    Apply convolution then max pooling to x_tensor\n",
    "    :param x_tensor: TensorFlow Tensor\n",
    "    :param conv_num_outputs: Number of outputs for the convolutional layer\n",
    "    :param conv_ksize: kernal size 2-D Tuple for the convolutional layer\n",
    "    :param conv_strides: Stride 2-D Tuple for convolution\n",
    "    :param pool_ksize: kernal size 2-D Tuple for pool\n",
    "    :param pool_strides: Stride 2-D Tuple for pool\n",
    "    : return: A tensor that represents convolution and max pooling of x_tensor\n",
    "    \"\"\"\n",
    "    # TODO: Implement Function\n",
    "    # Weight and bias\n",
    "    weights = tf.Variable(tf.truncated_normal([*conv_ksize,\n",
    "                                              x_tensor.shape.as_list()[3],\n",
    "                                              conv_num_outputs],\n",
    "                                             stddev=0.1),\n",
    "                         dtype=tf.float32)\n",
    "    bias = tf.Variable(tf.zeros([conv_num_outputs]), dtype=tf.float32)\n",
    "    \n",
    "    # Apply convolution\n",
    "    strides = [1, *conv_strides, 1]\n",
    "    padding = 'SAME'\n",
    "    \n",
    "    conv_layer = tf.nn.conv2d(x_tensor, weights, strides, padding) # + bias (alternative?)\n",
    "    \n",
    "    # Add bias\n",
    "    conv_layer = tf.nn.bias_add(conv_layer, bias)\n",
    "    \n",
    "    # Apply nonlinear activation function\n",
    "    conv_layer = tf.nn.relu(conv_layer)\n",
    "    \n",
    "    # Max pooling\n",
    "    output = tf.nn.max_pool(conv_layer,\n",
    "                                ksize=[1, *pool_ksize, 1],\n",
    "                                strides=[1, *pool_strides, 1],\n",
    "                                padding='SAME')\n",
    "    \n",
    "    return output \n",
    "\n",
    "\"\"\"\n",
    "DON'T MODIFY ANYTHING IN THIS CELL THAT IS BELOW THIS LINE\n",
    "\"\"\"\n",
    "tests.test_con_pool(conv2d_maxpool)"
   ]
  },
  {
   "cell_type": "markdown",
   "metadata": {},
   "source": [
    "### Flatten Layer\n",
    "Implement the `flatten` function to change the dimension of `x_tensor` from a 4-D tensor to a 2-D tensor.  The output should be the shape (*Batch Size*, *Flattened Image Size*). Shortcut option: you can use classes from the [TensorFlow Layers](https://www.tensorflow.org/api_docs/python/tf/layers) or [TensorFlow Layers (contrib)](https://www.tensorflow.org/api_guides/python/contrib.layers) packages for this layer. For more of a challenge, only use other TensorFlow packages."
   ]
  },
  {
   "cell_type": "code",
   "execution_count": 35,
   "metadata": {
    "collapsed": false
   },
   "outputs": [
    {
     "name": "stdout",
     "output_type": "stream",
     "text": [
      "Tests Passed\n"
     ]
    }
   ],
   "source": [
    "def flatten(x_tensor):\n",
    "    \"\"\"\n",
    "    Flatten x_tensor to (Batch Size, Flattened Image Size)\n",
    "    : x_tensor: A tensor of size (Batch Size, ...), where ... are the image dimensions.\n",
    "    : return: A tensor of size (Batch Size, Flattened Image Size).\n",
    "    \"\"\"\n",
    "    # TODO: Implement Function\n",
    "    return tf.reshape(x_tensor, [-1, np.prod(x_tensor.shape.as_list()[1:])])\n",
    "\n",
    "\"\"\"\n",
    "DON'T MODIFY ANYTHING IN THIS CELL THAT IS BELOW THIS LINE\n",
    "\"\"\"\n",
    "tests.test_flatten(flatten)"
   ]
  },
  {
   "cell_type": "markdown",
   "metadata": {},
   "source": [
    "### Fully-Connected Layer\n",
    "Implement the `fully_conn` function to apply a fully connected layer to `x_tensor` with the shape (*Batch Size*, *num_outputs*). Shortcut option: you can use classes from the [TensorFlow Layers](https://www.tensorflow.org/api_docs/python/tf/layers) or [TensorFlow Layers (contrib)](https://www.tensorflow.org/api_guides/python/contrib.layers) packages for this layer. For more of a challenge, only use other TensorFlow packages."
   ]
  },
  {
   "cell_type": "code",
   "execution_count": 103,
   "metadata": {
    "collapsed": false
   },
   "outputs": [
    {
     "name": "stdout",
     "output_type": "stream",
     "text": [
      "Tests Passed\n"
     ]
    }
   ],
   "source": [
    "def fully_conn(x_tensor, num_outputs):\n",
    "    \"\"\"\n",
    "    Apply a fully connected layer to x_tensor using weight and bias\n",
    "    : x_tensor: A 2-D tensor where the first dimension is batch size.\n",
    "    : num_outputs: The number of output that the new tensor should be.\n",
    "    : return: A 2-D tensor where the second dimension is num_outputs.\n",
    "    \"\"\"\n",
    "    # TODO: Implement Function\n",
    "    num_inputs = x_tensor.get_shape().as_list()[1]\n",
    "\n",
    "    weights = tf.Variable(tf.truncated_normal([num_inputs, num_outputs], stddev=0.1))\n",
    "    bias = tf.Variable(tf.zeros(num_outputs))\n",
    "    \n",
    "    fc_layer = tf.add(tf.matmul(x_tensor, weights), bias)\n",
    "    fc_layer = tf.nn.relu(fc_layer)\n",
    "    \n",
    "    return fc_layer\n",
    "\n",
    "\n",
    "\"\"\"\n",
    "DON'T MODIFY ANYTHING IN THIS CELL THAT IS BELOW THIS LINE\n",
    "\"\"\"\n",
    "tests.test_fully_conn(fully_conn)"
   ]
  },
  {
   "cell_type": "markdown",
   "metadata": {},
   "source": [
    "### Output Layer\n",
    "Implement the `output` function to apply a fully connected layer to `x_tensor` with the shape (*Batch Size*, *num_outputs*). Shortcut option: you can use classes from the [TensorFlow Layers](https://www.tensorflow.org/api_docs/python/tf/layers) or [TensorFlow Layers (contrib)](https://www.tensorflow.org/api_guides/python/contrib.layers) packages for this layer. For more of a challenge, only use other TensorFlow packages.\n",
    "\n",
    "**Note:** Activation, softmax, or cross entropy should **not** be applied to this."
   ]
  },
  {
   "cell_type": "code",
   "execution_count": 104,
   "metadata": {
    "collapsed": false
   },
   "outputs": [
    {
     "name": "stdout",
     "output_type": "stream",
     "text": [
      "Tests Passed\n"
     ]
    }
   ],
   "source": [
    "def output(x_tensor, num_outputs):\n",
    "    \"\"\"\n",
    "    Apply a output layer to x_tensor using weight and bias\n",
    "    : x_tensor: A 2-D tensor where the first dimension is batch size.\n",
    "    : num_outputs: The number of output that the new tensor should be.\n",
    "    : return: A 2-D tensor where the second dimension is num_outputs.\n",
    "    \"\"\"\n",
    "    # TODO: Implement Function\n",
    "    num_inputs = x_tensor.get_shape().as_list()[1]\n",
    "\n",
    "    weights = tf.Variable(tf.truncated_normal([num_inputs, num_outputs], stddev=0.1))\n",
    "    bias = tf.Variable(tf.zeros(num_outputs))\n",
    "    \n",
    "    output_layer = tf.add(tf.matmul(x_tensor, weights), bias)\n",
    "    \n",
    "    return output_layer\n",
    "\n",
    "\n",
    "\"\"\"\n",
    "DON'T MODIFY ANYTHING IN THIS CELL THAT IS BELOW THIS LINE\n",
    "\"\"\"\n",
    "tests.test_output(output)"
   ]
  },
  {
   "cell_type": "markdown",
   "metadata": {},
   "source": [
    "### Create Convolutional Model\n",
    "Implement the function `conv_net` to create a convolutional neural network model. The function takes in a batch of images, `x`, and outputs logits.  Use the layers you created above to create this model:\n",
    "\n",
    "* Apply 1, 2, or 3 Convolution and Max Pool layers\n",
    "* Apply a Flatten Layer\n",
    "* Apply 1, 2, or 3 Fully Connected Layers\n",
    "* Apply an Output Layer\n",
    "* Return the output\n",
    "* Apply [TensorFlow's Dropout](https://www.tensorflow.org/api_docs/python/tf/nn/dropout) to one or more layers in the model using `keep_prob`. "
   ]
  },
  {
   "cell_type": "code",
   "execution_count": 127,
   "metadata": {
    "collapsed": false,
    "scrolled": false
   },
   "outputs": [
    {
     "ename": "SyntaxError",
     "evalue": "positional argument follows keyword argument (<ipython-input-127-73101804576a>, line 17)",
     "output_type": "error",
     "traceback": [
      "\u001b[0;36m  File \u001b[0;32m\"<ipython-input-127-73101804576a>\"\u001b[0;36m, line \u001b[0;32m17\u001b[0m\n\u001b[0;31m    nn = conv2d_maxpool(x, conv_num_outputs=64, conv_ksize, conv_strides, pool_ksize, pool_strides)\u001b[0m\n\u001b[0m                                               ^\u001b[0m\n\u001b[0;31mSyntaxError\u001b[0m\u001b[0;31m:\u001b[0m positional argument follows keyword argument\n"
     ]
    }
   ],
   "source": [
    "def conv_net(x, keep_prob):\n",
    "    \"\"\"\n",
    "    Create a convolutional neural network model\n",
    "    : x: Placeholder tensor that holds image data.\n",
    "    : keep_prob: Placeholder tensor that hold dropout keep probability.\n",
    "    : return: Tensor that represents logits\n",
    "    \"\"\"\n",
    "    # TODO: Apply 1, 2, or 3 Convolution and Max Pool layers\n",
    "    #    Play around with different number of outputs, kernel size and stride\n",
    "    # Function Definition from Above:\n",
    "    #    conv2d_maxpool(x_tensor, conv_num_outputs, conv_ksize, conv_strides, pool_ksize, pool_strides)\n",
    "    conv_ksize = (3,3)\n",
    "    conv_strides = (1,1)\n",
    "    pool_ksize = (3,3)\n",
    "    pool_strides = (1,1)\n",
    "    \n",
    "    nn = conv2d_maxpool(x, 64, conv_ksize, conv_strides, pool_ksize, pool_strides)\n",
    "    nn = conv2d_maxpool(x, 128, conv_ksize, conv_strides, pool_ksize, pool_strides)\n",
    "    nn = conv2d_maxpool(x, 64, conv_ksize, conv_strides, pool_ksize, pool_strides)\n",
    "\n",
    "    # TODO: Apply a Flatten Layer\n",
    "    # Function Definition from Above:\n",
    "    #   flatten(x_tensor)\n",
    "    nn = flatten(nn)\n",
    "\n",
    "    # TODO: Apply 1, 2, or 3 Fully Connected Layers\n",
    "    #    Play around with different number of outputs\n",
    "    # Function Definition from Above:\n",
    "    #   fully_conn(x_tensor, num_outputs)\n",
    "    num_outputs = 10\n",
    "    \n",
    "    nn = fully_conn(nn, 512)\n",
    "    nn = tf.nn.dropout(nn, keep_prob)\n",
    "    nn = fully_conn(nn, 512)\n",
    "    nn = tf.nn.dropout(nn, keep_prob)\n",
    "    nn = fully_conn(nn, 256)\n",
    "    \n",
    "    # TODO: Apply an Output Layer\n",
    "    #    Set this to the number of classes\n",
    "    # Function Definition from Above:\n",
    "    #   output(x_tensor, num_outputs)\n",
    "    nn = output(nn, num_outputs)\n",
    "    \n",
    "    \n",
    "    # TODO: return output\n",
    "    return nn\n",
    "\n",
    "\n",
    "\"\"\"\n",
    "DON'T MODIFY ANYTHING IN THIS CELL THAT IS BELOW THIS LINE\n",
    "\"\"\"\n",
    "\n",
    "##############################\n",
    "## Build the Neural Network ##\n",
    "##############################\n",
    "\n",
    "# Remove previous weights, bias, inputs, etc..\n",
    "tf.reset_default_graph()\n",
    "\n",
    "# Inputs\n",
    "x = neural_net_image_input((32, 32, 3))\n",
    "y = neural_net_label_input(10)\n",
    "keep_prob = neural_net_keep_prob_input()\n",
    "\n",
    "# Model\n",
    "logits = conv_net(x, keep_prob)\n",
    "\n",
    "# Name logits Tensor, so that is can be loaded from disk after training\n",
    "logits = tf.identity(logits, name='logits')\n",
    "\n",
    "# Loss and Optimizer\n",
    "cost = tf.reduce_mean(tf.nn.softmax_cross_entropy_with_logits(logits=logits, labels=y))\n",
    "optimizer = tf.train.AdamOptimizer().minimize(cost)\n",
    "\n",
    "# Accuracy\n",
    "correct_pred = tf.equal(tf.argmax(logits, 1), tf.argmax(y, 1))\n",
    "accuracy = tf.reduce_mean(tf.cast(correct_pred, tf.float32), name='accuracy')\n",
    "\n",
    "tests.test_conv_net(conv_net)"
   ]
  },
  {
   "cell_type": "markdown",
   "metadata": {},
   "source": [
    "## Train the Neural Network\n",
    "### Single Optimization\n",
    "Implement the function `train_neural_network` to do a single optimization.  The optimization should use `optimizer` to optimize in `session` with a `feed_dict` of the following:\n",
    "* `x` for image input\n",
    "* `y` for labels\n",
    "* `keep_prob` for keep probability for dropout\n",
    "\n",
    "This function will be called for each batch, so `tf.global_variables_initializer()` has already been called.\n",
    "\n",
    "Note: Nothing needs to be returned. This function is only optimizing the neural network."
   ]
  },
  {
   "cell_type": "code",
   "execution_count": 122,
   "metadata": {
    "collapsed": false
   },
   "outputs": [
    {
     "name": "stdout",
     "output_type": "stream",
     "text": [
      "Tests Passed\n"
     ]
    }
   ],
   "source": [
    "def train_neural_network(session, optimizer, keep_probability, feature_batch, label_batch):\n",
    "    \"\"\"\n",
    "    Optimize the session on a batch of images and labels\n",
    "    : session: Current TensorFlow session\n",
    "    : optimizer: TensorFlow optimizer function\n",
    "    : keep_probability: keep probability\n",
    "    : feature_batch: Batch of Numpy image data\n",
    "    : label_batch: Batch of Numpy label data\n",
    "    \"\"\"\n",
    "    # TODO: Implement Function\n",
    "    session.run(optimizer, feed_dict={x: feature_batch,\n",
    "                                      y: label_batch,\n",
    "                                      keep_prob: keep_probability})\n",
    "\n",
    "\n",
    "\"\"\"\n",
    "DON'T MODIFY ANYTHING IN THIS CELL THAT IS BELOW THIS LINE\n",
    "\"\"\"\n",
    "tests.test_train_nn(train_neural_network)"
   ]
  },
  {
   "cell_type": "markdown",
   "metadata": {},
   "source": [
    "### Show Stats\n",
    "Implement the function `print_stats` to print loss and validation accuracy.  Use the global variables `valid_features` and `valid_labels` to calculate validation accuracy.  Use a keep probability of `1.0` to calculate the loss and validation accuracy."
   ]
  },
  {
   "cell_type": "code",
   "execution_count": 118,
   "metadata": {
    "collapsed": false
   },
   "outputs": [],
   "source": [
    "def print_stats(session, feature_batch, label_batch, cost, accuracy):\n",
    "    \"\"\"\n",
    "    Print information about loss and validation accuracy\n",
    "    : session: Current TensorFlow session\n",
    "    : feature_batch: Batch of Numpy image data\n",
    "    : label_batch: Batch of Numpy label data\n",
    "    : cost: TensorFlow cost function\n",
    "    : accuracy: TensorFlow accuracy function\n",
    "    \"\"\"\n",
    "    # TODO: Implement Function\n",
    "    validation_accuracy = session.run(accuracy, feed_dict={x: valid_features,\n",
    "                                                           y: valid_labels,\n",
    "                                                           keep_prob: 1.0})\n",
    "    loss = session.run(cost, feed_dict={x: feature_batch,\n",
    "                                        y: label_batch,\n",
    "                                        keep_prob: 1.0})\n",
    "    print(validation_accuracy)\n",
    "    print('Loss: {:>10.4f} Accuracy: {:.6f}'.format(loss, validation_accuracy))"
   ]
  },
  {
   "cell_type": "markdown",
   "metadata": {},
   "source": [
    "### Hyperparameters\n",
    "Tune the following parameters:\n",
    "* Set `epochs` to the number of iterations until the network stops learning or start overfitting\n",
    "* Set `batch_size` to the highest number that your machine has memory for.  Most people set them to common sizes of memory:\n",
    " * 64\n",
    " * 128\n",
    " * 256\n",
    " * ...\n",
    "* Set `keep_probability` to the probability of keeping a node using dropout"
   ]
  },
  {
   "cell_type": "code",
   "execution_count": 123,
   "metadata": {
    "collapsed": true
   },
   "outputs": [],
   "source": [
    "# TODO: Tune Parameters\n",
    "epochs = 20\n",
    "batch_size = 256\n",
    "keep_probability = 0.6"
   ]
  },
  {
   "cell_type": "markdown",
   "metadata": {},
   "source": [
    "### Train on a Single CIFAR-10 Batch\n",
    "Instead of training the neural network on all the CIFAR-10 batches of data, let's use a single batch. This should save time while you iterate on the model to get a better accuracy.  Once the final validation accuracy is 50% or greater, run the model on all the data in the next section."
   ]
  },
  {
   "cell_type": "code",
   "execution_count": 124,
   "metadata": {
    "collapsed": false,
    "scrolled": false
   },
   "outputs": [
    {
     "name": "stdout",
     "output_type": "stream",
     "text": [
      "Checking the Training on a Single Batch...\n",
      "Epoch  1, CIFAR-10 Batch 1:  0.2022\n",
      "Loss:     2.2012 Accuracy: 0.202200\n",
      "Epoch  2, CIFAR-10 Batch 1:  0.2758\n",
      "Loss:     2.0316 Accuracy: 0.275800\n",
      "Epoch  3, CIFAR-10 Batch 1:  0.3542\n",
      "Loss:     1.9312 Accuracy: 0.354200\n",
      "Epoch  4, CIFAR-10 Batch 1:  0.3826\n",
      "Loss:     1.7342 Accuracy: 0.382600\n",
      "Epoch  5, CIFAR-10 Batch 1:  0.402\n",
      "Loss:     1.4933 Accuracy: 0.402000\n",
      "Epoch  6, CIFAR-10 Batch 1:  0.43\n",
      "Loss:     1.2922 Accuracy: 0.430000\n",
      "Epoch  7, CIFAR-10 Batch 1:  0.454\n",
      "Loss:     1.0834 Accuracy: 0.454000\n",
      "Epoch  8, CIFAR-10 Batch 1:  0.4838\n",
      "Loss:     0.9864 Accuracy: 0.483800\n",
      "Epoch  9, CIFAR-10 Batch 1:  0.4892\n",
      "Loss:     0.8794 Accuracy: 0.489200\n",
      "Epoch 10, CIFAR-10 Batch 1:  0.502\n",
      "Loss:     0.7572 Accuracy: 0.502000\n",
      "Epoch 11, CIFAR-10 Batch 1:  0.5188\n",
      "Loss:     0.6792 Accuracy: 0.518800\n",
      "Epoch 12, CIFAR-10 Batch 1:  0.5224\n",
      "Loss:     0.5834 Accuracy: 0.522400\n",
      "Epoch 13, CIFAR-10 Batch 1:  0.5414\n",
      "Loss:     0.5037 Accuracy: 0.541400\n",
      "Epoch 14, CIFAR-10 Batch 1:  0.5444\n",
      "Loss:     0.4873 Accuracy: 0.544400\n",
      "Epoch 15, CIFAR-10 Batch 1:  0.5424\n",
      "Loss:     0.3686 Accuracy: 0.542400\n",
      "Epoch 16, CIFAR-10 Batch 1:  0.5262\n",
      "Loss:     0.4157 Accuracy: 0.526200\n",
      "Epoch 17, CIFAR-10 Batch 1:  0.5424\n",
      "Loss:     0.3408 Accuracy: 0.542400\n",
      "Epoch 18, CIFAR-10 Batch 1:  0.5378\n",
      "Loss:     0.3237 Accuracy: 0.537800\n",
      "Epoch 19, CIFAR-10 Batch 1:  0.5438\n",
      "Loss:     0.2908 Accuracy: 0.543800\n",
      "Epoch 20, CIFAR-10 Batch 1:  0.5296\n",
      "Loss:     0.2883 Accuracy: 0.529600\n"
     ]
    }
   ],
   "source": [
    "\"\"\"\n",
    "DON'T MODIFY ANYTHING IN THIS CELL\n",
    "\"\"\"\n",
    "print('Checking the Training on a Single Batch...')\n",
    "with tf.Session() as sess:\n",
    "    # Initializing the variables\n",
    "    sess.run(tf.global_variables_initializer())\n",
    "    \n",
    "    # Training cycle\n",
    "    for epoch in range(epochs):\n",
    "        batch_i = 1\n",
    "        for batch_features, batch_labels in helper.load_preprocess_training_batch(batch_i, batch_size):\n",
    "            train_neural_network(sess, optimizer, keep_probability, batch_features, batch_labels)\n",
    "        print('Epoch {:>2}, CIFAR-10 Batch {}:  '.format(epoch + 1, batch_i), end='')\n",
    "        print_stats(sess, batch_features, batch_labels, cost, accuracy)"
   ]
  },
  {
   "cell_type": "markdown",
   "metadata": {},
   "source": [
    "### Fully Train the Model\n",
    "Now that you got a good accuracy with a single CIFAR-10 batch, try it with all five batches."
   ]
  },
  {
   "cell_type": "code",
   "execution_count": 125,
   "metadata": {
    "collapsed": false,
    "scrolled": false
   },
   "outputs": [
    {
     "name": "stdout",
     "output_type": "stream",
     "text": [
      "Training...\n",
      "Epoch  1, CIFAR-10 Batch 1:  0.1818\n",
      "Loss:     2.2239 Accuracy: 0.181800\n",
      "Epoch  1, CIFAR-10 Batch 2:  0.2418\n",
      "Loss:     2.1576 Accuracy: 0.241800\n",
      "Epoch  1, CIFAR-10 Batch 3:  0.327\n",
      "Loss:     1.7295 Accuracy: 0.327000\n",
      "Epoch  1, CIFAR-10 Batch 4:  0.3684\n",
      "Loss:     1.7307 Accuracy: 0.368400\n",
      "Epoch  1, CIFAR-10 Batch 5:  0.3992\n",
      "Loss:     1.6784 Accuracy: 0.399200\n",
      "Epoch  2, CIFAR-10 Batch 1:  0.426\n",
      "Loss:     1.7203 Accuracy: 0.426000\n",
      "Epoch  2, CIFAR-10 Batch 2:  0.451\n",
      "Loss:     1.5504 Accuracy: 0.451000\n",
      "Epoch  2, CIFAR-10 Batch 3:  0.4576\n",
      "Loss:     1.3074 Accuracy: 0.457600\n",
      "Epoch  2, CIFAR-10 Batch 4:  0.4912\n",
      "Loss:     1.3868 Accuracy: 0.491200\n",
      "Epoch  2, CIFAR-10 Batch 5:  0.4834\n",
      "Loss:     1.3391 Accuracy: 0.483400\n",
      "Epoch  3, CIFAR-10 Batch 1:  0.4968\n",
      "Loss:     1.3397 Accuracy: 0.496800\n",
      "Epoch  3, CIFAR-10 Batch 2:  0.5036\n",
      "Loss:     1.1371 Accuracy: 0.503600\n",
      "Epoch  3, CIFAR-10 Batch 3:  0.5248\n",
      "Loss:     1.1090 Accuracy: 0.524800\n",
      "Epoch  3, CIFAR-10 Batch 4:  0.5496\n",
      "Loss:     1.1642 Accuracy: 0.549600\n",
      "Epoch  3, CIFAR-10 Batch 5:  0.524\n",
      "Loss:     1.1917 Accuracy: 0.524000\n",
      "Epoch  4, CIFAR-10 Batch 1:  0.5322\n",
      "Loss:     1.1701 Accuracy: 0.532200\n",
      "Epoch  4, CIFAR-10 Batch 2:  0.5342\n",
      "Loss:     1.0622 Accuracy: 0.534200\n",
      "Epoch  4, CIFAR-10 Batch 3:  0.5376\n",
      "Loss:     0.9073 Accuracy: 0.537600\n",
      "Epoch  4, CIFAR-10 Batch 4:  0.5494\n",
      "Loss:     1.1952 Accuracy: 0.549400\n",
      "Epoch  4, CIFAR-10 Batch 5:  0.563\n",
      "Loss:     1.0574 Accuracy: 0.563000\n",
      "Epoch  5, CIFAR-10 Batch 1:  0.5706\n",
      "Loss:     0.9359 Accuracy: 0.570600\n",
      "Epoch  5, CIFAR-10 Batch 2:  0.574\n",
      "Loss:     0.9111 Accuracy: 0.574000\n",
      "Epoch  5, CIFAR-10 Batch 3:  0.5716\n",
      "Loss:     0.7487 Accuracy: 0.571600\n",
      "Epoch  5, CIFAR-10 Batch 4:  0.5744\n",
      "Loss:     1.0307 Accuracy: 0.574400\n",
      "Epoch  5, CIFAR-10 Batch 5:  0.578\n",
      "Loss:     0.9176 Accuracy: 0.578000\n",
      "Epoch  6, CIFAR-10 Batch 1:  0.5728\n",
      "Loss:     0.8571 Accuracy: 0.572800\n",
      "Epoch  6, CIFAR-10 Batch 2:  0.5702\n",
      "Loss:     0.8192 Accuracy: 0.570200\n",
      "Epoch  6, CIFAR-10 Batch 3:  0.5746\n",
      "Loss:     0.7135 Accuracy: 0.574600\n",
      "Epoch  6, CIFAR-10 Batch 4:  0.5882\n",
      "Loss:     0.8796 Accuracy: 0.588200\n",
      "Epoch  6, CIFAR-10 Batch 5:  0.59\n",
      "Loss:     0.8254 Accuracy: 0.590000\n",
      "Epoch  7, CIFAR-10 Batch 1:  0.5838\n",
      "Loss:     0.7907 Accuracy: 0.583800\n",
      "Epoch  7, CIFAR-10 Batch 2:  0.5848\n",
      "Loss:     0.7193 Accuracy: 0.584800\n",
      "Epoch  7, CIFAR-10 Batch 3:  0.5752\n",
      "Loss:     0.6303 Accuracy: 0.575200\n",
      "Epoch  7, CIFAR-10 Batch 4:  0.5934\n",
      "Loss:     0.7505 Accuracy: 0.593400\n",
      "Epoch  7, CIFAR-10 Batch 5:  0.5958\n",
      "Loss:     0.7780 Accuracy: 0.595800\n",
      "Epoch  8, CIFAR-10 Batch 1:  0.584\n",
      "Loss:     0.6784 Accuracy: 0.584000\n",
      "Epoch  8, CIFAR-10 Batch 2:  0.5816\n",
      "Loss:     0.7156 Accuracy: 0.581600\n",
      "Epoch  8, CIFAR-10 Batch 3:  0.6076\n",
      "Loss:     0.5535 Accuracy: 0.607600\n",
      "Epoch  8, CIFAR-10 Batch 4:  0.612\n",
      "Loss:     0.6770 Accuracy: 0.612000\n",
      "Epoch  8, CIFAR-10 Batch 5:  0.6056\n",
      "Loss:     0.7057 Accuracy: 0.605600\n",
      "Epoch  9, CIFAR-10 Batch 1:  0.6058\n",
      "Loss:     0.6388 Accuracy: 0.605800\n",
      "Epoch  9, CIFAR-10 Batch 2:  0.5932\n",
      "Loss:     0.6208 Accuracy: 0.593200\n",
      "Epoch  9, CIFAR-10 Batch 3:  0.5988\n",
      "Loss:     0.4884 Accuracy: 0.598800\n",
      "Epoch  9, CIFAR-10 Batch 4:  0.6124\n",
      "Loss:     0.6124 Accuracy: 0.612400\n",
      "Epoch  9, CIFAR-10 Batch 5:  0.6204\n",
      "Loss:     0.6196 Accuracy: 0.620400\n",
      "Epoch 10, CIFAR-10 Batch 1:  0.602\n",
      "Loss:     0.6498 Accuracy: 0.602000\n",
      "Epoch 10, CIFAR-10 Batch 2:  0.6192\n",
      "Loss:     0.5389 Accuracy: 0.619200\n",
      "Epoch 10, CIFAR-10 Batch 3:  0.628\n",
      "Loss:     0.4196 Accuracy: 0.628000\n",
      "Epoch 10, CIFAR-10 Batch 4:  0.6284\n",
      "Loss:     0.5297 Accuracy: 0.628400\n",
      "Epoch 10, CIFAR-10 Batch 5:  0.6338\n",
      "Loss:     0.5317 Accuracy: 0.633800\n",
      "Epoch 11, CIFAR-10 Batch 1:  0.609\n",
      "Loss:     0.5933 Accuracy: 0.609000\n",
      "Epoch 11, CIFAR-10 Batch 2:  0.613\n",
      "Loss:     0.5217 Accuracy: 0.613000\n",
      "Epoch 11, CIFAR-10 Batch 3:  0.615\n",
      "Loss:     0.3983 Accuracy: 0.615000\n",
      "Epoch 11, CIFAR-10 Batch 4:  0.6352\n",
      "Loss:     0.4394 Accuracy: 0.635200\n",
      "Epoch 11, CIFAR-10 Batch 5:  0.6236\n",
      "Loss:     0.5033 Accuracy: 0.623600\n",
      "Epoch 12, CIFAR-10 Batch 1:  0.6138\n",
      "Loss:     0.5359 Accuracy: 0.613800\n",
      "Epoch 12, CIFAR-10 Batch 2:  0.614\n",
      "Loss:     0.5036 Accuracy: 0.614000\n",
      "Epoch 12, CIFAR-10 Batch 3:  0.6224\n",
      "Loss:     0.3191 Accuracy: 0.622400\n",
      "Epoch 12, CIFAR-10 Batch 4:  0.6246\n",
      "Loss:     0.4270 Accuracy: 0.624600\n",
      "Epoch 12, CIFAR-10 Batch 5:  0.6398\n",
      "Loss:     0.4016 Accuracy: 0.639800\n",
      "Epoch 13, CIFAR-10 Batch 1:  0.6082\n",
      "Loss:     0.5992 Accuracy: 0.608200\n",
      "Epoch 13, CIFAR-10 Batch 2:  0.6198\n",
      "Loss:     0.4348 Accuracy: 0.619800\n",
      "Epoch 13, CIFAR-10 Batch 3:  0.6284\n",
      "Loss:     0.3271 Accuracy: 0.628400\n",
      "Epoch 13, CIFAR-10 Batch 4:  0.6378\n",
      "Loss:     0.3753 Accuracy: 0.637800\n",
      "Epoch 13, CIFAR-10 Batch 5:  0.6302\n",
      "Loss:     0.3995 Accuracy: 0.630200\n",
      "Epoch 14, CIFAR-10 Batch 1:  0.6396\n",
      "Loss:     0.5009 Accuracy: 0.639600\n",
      "Epoch 14, CIFAR-10 Batch 2:  0.6232\n",
      "Loss:     0.4243 Accuracy: 0.623200\n",
      "Epoch 14, CIFAR-10 Batch 3:  0.6296\n",
      "Loss:     0.3275 Accuracy: 0.629600\n",
      "Epoch 14, CIFAR-10 Batch 4:  0.6352\n",
      "Loss:     0.3578 Accuracy: 0.635200\n",
      "Epoch 14, CIFAR-10 Batch 5:  0.6428\n",
      "Loss:     0.3720 Accuracy: 0.642800\n",
      "Epoch 15, CIFAR-10 Batch 1:  0.6392\n",
      "Loss:     0.4236 Accuracy: 0.639200\n",
      "Epoch 15, CIFAR-10 Batch 2:  0.6104\n",
      "Loss:     0.3972 Accuracy: 0.610400\n",
      "Epoch 15, CIFAR-10 Batch 3:  0.6224\n",
      "Loss:     0.2575 Accuracy: 0.622400\n",
      "Epoch 15, CIFAR-10 Batch 4:  0.644\n",
      "Loss:     0.3081 Accuracy: 0.644000\n",
      "Epoch 15, CIFAR-10 Batch 5:  0.6444\n",
      "Loss:     0.3678 Accuracy: 0.644400\n",
      "Epoch 16, CIFAR-10 Batch 1:  0.6262\n",
      "Loss:     0.4506 Accuracy: 0.626200\n",
      "Epoch 16, CIFAR-10 Batch 2:  0.621\n",
      "Loss:     0.3714 Accuracy: 0.621000\n",
      "Epoch 16, CIFAR-10 Batch 3:  0.6338\n",
      "Loss:     0.2429 Accuracy: 0.633800\n",
      "Epoch 16, CIFAR-10 Batch 4:  0.6386\n",
      "Loss:     0.2780 Accuracy: 0.638600\n",
      "Epoch 16, CIFAR-10 Batch 5:  0.6412\n",
      "Loss:     0.3047 Accuracy: 0.641200\n",
      "Epoch 17, CIFAR-10 Batch 1:  0.6338\n",
      "Loss:     0.4315 Accuracy: 0.633800\n",
      "Epoch 17, CIFAR-10 Batch 2:  0.6034\n",
      "Loss:     0.3813 Accuracy: 0.603400\n",
      "Epoch 17, CIFAR-10 Batch 3:  0.638\n",
      "Loss:     0.2376 Accuracy: 0.638000\n",
      "Epoch 17, CIFAR-10 Batch 4:  0.6482\n",
      "Loss:     0.2600 Accuracy: 0.648200\n",
      "Epoch 17, CIFAR-10 Batch 5:  0.6392\n",
      "Loss:     0.2558 Accuracy: 0.639200\n",
      "Epoch 18, CIFAR-10 Batch 1:  0.6242\n",
      "Loss:     0.3857 Accuracy: 0.624200\n",
      "Epoch 18, CIFAR-10 Batch 2:  0.627\n",
      "Loss:     0.3216 Accuracy: 0.627000\n",
      "Epoch 18, CIFAR-10 Batch 3:  0.6352\n",
      "Loss:     0.2066 Accuracy: 0.635200\n",
      "Epoch 18, CIFAR-10 Batch 4:  0.6324\n",
      "Loss:     0.2811 Accuracy: 0.632400\n",
      "Epoch 18, CIFAR-10 Batch 5:  0.6336\n",
      "Loss:     0.2520 Accuracy: 0.633600\n",
      "Epoch 19, CIFAR-10 Batch 1:  0.6346\n",
      "Loss:     0.3670 Accuracy: 0.634600\n",
      "Epoch 19, CIFAR-10 Batch 2:  0.6238\n",
      "Loss:     0.3050 Accuracy: 0.623800\n",
      "Epoch 19, CIFAR-10 Batch 3:  0.642\n",
      "Loss:     0.2112 Accuracy: 0.642000\n",
      "Epoch 19, CIFAR-10 Batch 4:  0.6334\n",
      "Loss:     0.2595 Accuracy: 0.633400\n",
      "Epoch 19, CIFAR-10 Batch 5:  0.631\n",
      "Loss:     0.2617 Accuracy: 0.631000\n",
      "Epoch 20, CIFAR-10 Batch 1:  0.6222\n",
      "Loss:     0.3752 Accuracy: 0.622200\n",
      "Epoch 20, CIFAR-10 Batch 2:  0.628\n",
      "Loss:     0.2562 Accuracy: 0.628000\n",
      "Epoch 20, CIFAR-10 Batch 3:  0.6286\n",
      "Loss:     0.2265 Accuracy: 0.628600\n",
      "Epoch 20, CIFAR-10 Batch 4:  0.6342\n",
      "Loss:     0.2692 Accuracy: 0.634200\n",
      "Epoch 20, CIFAR-10 Batch 5:  0.6338\n",
      "Loss:     0.2298 Accuracy: 0.633800\n"
     ]
    }
   ],
   "source": [
    "\"\"\"\n",
    "DON'T MODIFY ANYTHING IN THIS CELL\n",
    "\"\"\"\n",
    "save_model_path = './image_classification'\n",
    "\n",
    "print('Training...')\n",
    "with tf.Session() as sess:\n",
    "    # Initializing the variables\n",
    "    sess.run(tf.global_variables_initializer())\n",
    "    \n",
    "    # Training cycle\n",
    "    for epoch in range(epochs):\n",
    "        # Loop over all batches\n",
    "        n_batches = 5\n",
    "        for batch_i in range(1, n_batches + 1):\n",
    "            for batch_features, batch_labels in helper.load_preprocess_training_batch(batch_i, batch_size):\n",
    "                train_neural_network(sess, optimizer, keep_probability, batch_features, batch_labels)\n",
    "            print('Epoch {:>2}, CIFAR-10 Batch {}:  '.format(epoch + 1, batch_i), end='')\n",
    "            print_stats(sess, batch_features, batch_labels, cost, accuracy)\n",
    "            \n",
    "    # Save Model\n",
    "    saver = tf.train.Saver()\n",
    "    save_path = saver.save(sess, save_model_path)"
   ]
  },
  {
   "cell_type": "markdown",
   "metadata": {},
   "source": [
    "# Checkpoint\n",
    "The model has been saved to disk.\n",
    "## Test Model\n",
    "Test your model against the test dataset.  This will be your final accuracy. You should have an accuracy greater than 50%. If you don't, keep tweaking the model architecture and parameters."
   ]
  },
  {
   "cell_type": "code",
   "execution_count": 126,
   "metadata": {
    "collapsed": false
   },
   "outputs": [
    {
     "name": "stdout",
     "output_type": "stream",
     "text": [
      "Testing Accuracy: 0.63076171875\n",
      "\n"
     ]
    },
    {
     "data": {
      "image/png": "[encoded data removed]",
      "text/plain": [
       "<matplotlib.figure.Figure at 0x11500e390>"
      ]
     },
     "metadata": {
      "image/png": {
       "height": 319,
       "width": 355
      }
     },
     "output_type": "display_data"
    }
   ],
   "source": [
    "\"\"\"\n",
    "DON'T MODIFY ANYTHING IN THIS CELL\n",
    "\"\"\"\n",
    "%matplotlib inline\n",
    "%config InlineBackend.figure_format = 'retina'\n",
    "\n",
    "import tensorflow as tf\n",
    "import pickle\n",
    "import helper\n",
    "import random\n",
    "\n",
    "# Set batch size if not already set\n",
    "try:\n",
    "    if batch_size:\n",
    "        pass\n",
    "except NameError:\n",
    "    batch_size = 64\n",
    "\n",
    "save_model_path = './image_classification'\n",
    "n_samples = 4\n",
    "top_n_predictions = 3\n",
    "\n",
    "def test_model():\n",
    "    \"\"\"\n",
    "    Test the saved model against the test dataset\n",
    "    \"\"\"\n",
    "\n",
    "    test_features, test_labels = pickle.load(open('preprocess_training.p', mode='rb'))\n",
    "    loaded_graph = tf.Graph()\n",
    "\n",
    "    with tf.Session(graph=loaded_graph) as sess:\n",
    "        # Load model\n",
    "        loader = tf.train.import_meta_graph(save_model_path + '.meta')\n",
    "        loader.restore(sess, save_model_path)\n",
    "\n",
    "        # Get Tensors from loaded model\n",
    "        loaded_x = loaded_graph.get_tensor_by_name('x:0')\n",
    "        loaded_y = loaded_graph.get_tensor_by_name('y:0')\n",
    "        loaded_keep_prob = loaded_graph.get_tensor_by_name('keep_prob:0')\n",
    "        loaded_logits = loaded_graph.get_tensor_by_name('logits:0')\n",
    "        loaded_acc = loaded_graph.get_tensor_by_name('accuracy:0')\n",
    "        \n",
    "        # Get accuracy in batches for memory limitations\n",
    "        test_batch_acc_total = 0\n",
    "        test_batch_count = 0\n",
    "        \n",
    "        for train_feature_batch, train_label_batch in helper.batch_features_labels(test_features, test_labels, batch_size):\n",
    "            test_batch_acc_total += sess.run(\n",
    "                loaded_acc,\n",
    "                feed_dict={loaded_x: train_feature_batch, loaded_y: train_label_batch, loaded_keep_prob: 1.0})\n",
    "            test_batch_count += 1\n",
    "\n",
    "        print('Testing Accuracy: {}\\n'.format(test_batch_acc_total/test_batch_count))\n",
    "\n",
    "        # Print Random Samples\n",
    "        random_test_features, random_test_labels = tuple(zip(*random.sample(list(zip(test_features, test_labels)), n_samples)))\n",
    "        random_test_predictions = sess.run(\n",
    "            tf.nn.top_k(tf.nn.softmax(loaded_logits), top_n_predictions),\n",
    "            feed_dict={loaded_x: random_test_features, loaded_y: random_test_labels, loaded_keep_prob: 1.0})\n",
    "        helper.display_image_predictions(random_test_features, random_test_labels, random_test_predictions)\n",
    "\n",
    "\n",
    "test_model()"
   ]
  },
  {
   "cell_type": "markdown",
   "metadata": {},
   "source": [
    "## Why 50-80% Accuracy?\n",
    "You might be wondering why you can't get an accuracy any higher. First things first, 50% isn't bad for a simple CNN.  Pure guessing would get you 10% accuracy. However, you might notice people are getting scores [well above 80%](http://rodrigob.github.io/are_we_there_yet/build/classification_datasets_results.html#43494641522d3130).  That's because we haven't taught you all there is to know about neural networks. We still need to cover a few more techniques.\n",
    "## Submitting This Project\n",
    "When submitting this project, make sure to run all the cells before saving the notebook.  Save the notebook file as \"dlnd_image_classification.ipynb\" and save it as a HTML file under \"File\" -> \"Download as\".  Include the \"helper.py\" and \"problem_unittests.py\" files in your submission."
   ]
  }
 ],
 "metadata": {
  "kernelspec": {
   "display_name": "Python 3",
   "language": "python",
   "name": "python3"
  },
  "language_info": {
   "codemirror_mode": {
    "name": "ipython",
    "version": 3
   },
   "file_extension": ".py",
   "mimetype": "text/x-python",
   "name": "python",
   "nbconvert_exporter": "python",
   "pygments_lexer": "ipython3",
   "version": "3.5.3"
  }
 },
 "nbformat": 4,
 "nbformat_minor": 0
}
